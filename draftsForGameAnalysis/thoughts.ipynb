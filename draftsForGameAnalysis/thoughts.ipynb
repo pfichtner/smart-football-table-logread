{
 "cells": [
  {
   "cell_type": "markdown",
   "metadata": {},
   "source": [
    "### What is the input?\n",
    "\n",
    "At the moment, there is a log for each mqtt-message sent during playtime.\n",
    "\n",
    "### What should the input look like to analyze it? What then?\n",
    "\n",
    "Format is irrelevant, but for different objects the output from the played game should be somewhat similiar to this structure to be useful as input:\n",
    "\n",
    "##### Predict the winning team\n",
    "\n",
    "There should be following informations:\n",
    "\n",
    "* players and their\n",
    "    * position\n",
    "    * team color\n",
    "    * ball possession\n",
    "    * performance over last x games (if possible)    \n",
    "    * goal shot performance over last x games (needs to be calculated)\n",
    "    * goals prevented performance over last x games (needs to be calculated)\n",
    "* final score\n",
    "* ball possession\n",
    "* heatmap as clusters\n",
    "* metadata, like time\n",
    "* kicker table\n",
    "* average ball velocity of game\n",
    "* whole distance of ball\n",
    "\n",
    "##### Predict events (on player base)\n",
    "\n",
    "Should be a timepoint based structure, including the following events with timepoint:\n",
    "\n",
    "* fouls\n",
    "* throw ins\n",
    "* goal prevented\n",
    "* goal\n",
    "\n",
    "Goal is the interesting part here. Predicting a goal alone is cool, but maybe there is more possible when adding additional informations. To do so, they also have to be tracked with timepoints as the above one:\n",
    "\n",
    "* shot, and\n",
    "    * the player who shot\n",
    "    * the player position who shot\n",
    "    * shot over wall\n",
    "* traps, and\n",
    "    * the belonging player and position like above\n",
    "    \n",
    "With these events on a timeline, we should be able to build up situations. For example, a goal over the wall from behind would be a cluster of the events shot, from goalkeeper, over wall, and finally goal. Adding a class for each type of goal and using one hot encoding could be one way to do so.\n",
    "\n",
    "Beeing able to use clusters of events aka situation in one line of a dataset should make it possible to predict upcoming situations, even player related if it is also known which player made which situations.\n",
    "\n",
    "Problem with all this: to be reliable, it is neccessary to have a lot of data. Creating many possiblities of combination doesn't work that well when having not that much data. So keeping things simple is neccessary.\n",
    "\n"
   ]
  },
  {
   "cell_type": "code",
   "execution_count": null,
   "metadata": {},
   "outputs": [],
   "source": []
  }
 ],
 "metadata": {
  "kernelspec": {
   "display_name": "Python 3",
   "language": "python",
   "name": "python3"
  },
  "language_info": {
   "codemirror_mode": {
    "name": "ipython",
    "version": 3
   },
   "file_extension": ".py",
   "mimetype": "text/x-python",
   "name": "python",
   "nbconvert_exporter": "python",
   "pygments_lexer": "ipython3",
   "version": "3.7.0"
  }
 },
 "nbformat": 4,
 "nbformat_minor": 2
}
